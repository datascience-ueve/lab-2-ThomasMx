{
 "cells": [
  {
   "cell_type": "markdown",
   "metadata": {},
   "source": [
    "# TP 2. Analyse du jeu de données Vowel via NB, LDA, QDA, k-NN"
   ]
  },
  {
   "cell_type": "code",
   "execution_count": null,
   "metadata": {},
   "outputs": [],
   "source": [
    "import numpy as np\n",
    "\n",
    "import matplotlib.pyplot as plt\n",
    "from matplotlib.colors import ListedColormap\n",
    "%matplotlib inline\n",
    "\n",
    "import pandas as pd\n",
    "import seaborn as sns"
   ]
  },
  {
   "cell_type": "code",
   "execution_count": null,
   "metadata": {},
   "outputs": [],
   "source": [
    "from sklearn.naive_bayes import GaussianNB\n",
    "from sklearn.discriminant_analysis import LinearDiscriminantAnalysis\n",
    "from sklearn.discriminant_analysis import QuadraticDiscriminantAnalysis\n",
    "from sklearn.metrics import accuracy_score\n",
    "from sklearn import neighbors"
   ]
  },
  {
   "cell_type": "markdown",
   "metadata": {},
   "source": [
    "# Dataset Vowel\n"
   ]
  },
  {
   "cell_type": "markdown",
   "metadata": {},
   "source": [
    "https://web.stanford.edu/~hastie/ElemStatLearn/data.html"
   ]
  },
  {
   "cell_type": "markdown",
   "metadata": {},
   "source": [
    "Dans cette étude, on va s'intéresser au jeu de données \"Vowel\".\n",
    "\"Vowel\" porte sur la reconnaissance des onzes \"voyelles sonores\" de l'anglais Britannique.\n",
    "Ces sons sont les suivants : i, I, E, A, a:, Y, O, C:, U, u: et 3:"
   ]
  },
  {
   "cell_type": "markdown",
   "metadata": {},
   "source": [
    "### Importation des données train et test"
   ]
  },
  {
   "cell_type": "code",
   "execution_count": 52,
   "metadata": {},
   "outputs": [
    {
     "data": {
      "text/plain": [
       "array([[  2.   ,  -1.895,  -0.012,  -0.97 ,  -0.152,  -0.161,   1.509,\n",
       "          0.487,   0.809,   0.044,  -0.264],\n",
       "       [  3.   ,  -1.945,   0.352,  -1.053,  -0.228,  -0.12 ,   0.927,\n",
       "          0.088,   0.509,  -0.279,  -0.246],\n",
       "       [  4.   ,  -1.912,   1.554,  -1.455,  -0.017,  -0.118,   0.27 ,\n",
       "         -0.037,   0.163,  -0.027,  -0.474],\n",
       "       [  5.   ,  -2.724,   2.998,  -0.56 ,  -0.077,  -0.944,   0.548,\n",
       "         -0.08 ,   0.4  ,   0.144,  -0.63 ],\n",
       "       [  6.   ,  -2.385,   1.241,   0.272,  -0.04 ,  -0.692,   0.16 ,\n",
       "         -0.061,  -0.189,   0.744,   0.088],\n",
       "       [  7.   ,  -3.092,   3.014,  -0.307,  -0.016,  -0.956,   0.195,\n",
       "         -0.227,   0.367,   0.958,  -0.092],\n",
       "       [  8.   ,  -3.917,   3.496,   0.409,  -0.531,  -1.15 ,   0.017,\n",
       "          0.605,   0.977,  -0.328,   0.447],\n",
       "       [  9.   ,  -4.232,   3.035,   0.428,   0.497,  -1.374,   0.549,\n",
       "          0.133,   0.232,   0.129,   0.487],\n",
       "       [ 10.   ,  -4.759,   2.696,   0.104,   0.697,  -0.787,   1.114,\n",
       "          0.205,  -0.066,   0.369,   0.306],\n",
       "       [ 11.   ,  -2.945,   1.724,  -0.312,  -0.239,  -0.447,   1.36 ,\n",
       "          0.014,  -0.102,   0.021,  -0.564]])"
      ]
     },
     "execution_count": 52,
     "metadata": {},
     "output_type": "execute_result"
    }
   ],
   "source": [
    "train=pd.read_csv('vowel.train.csv', sep=',', index_col=0)"
   ]
  },
  {
   "cell_type": "code",
   "execution_count": 51,
   "metadata": {
    "scrolled": true
   },
   "outputs": [
    {
     "data": {
      "text/html": [
       "<div>\n",
       "<style>\n",
       "    .dataframe thead tr:only-child th {\n",
       "        text-align: right;\n",
       "    }\n",
       "\n",
       "    .dataframe thead th {\n",
       "        text-align: left;\n",
       "    }\n",
       "\n",
       "    .dataframe tbody tr th {\n",
       "        vertical-align: top;\n",
       "    }\n",
       "</style>\n",
       "<table border=\"1\" class=\"dataframe\">\n",
       "  <thead>\n",
       "    <tr style=\"text-align: right;\">\n",
       "      <th></th>\n",
       "      <th>y</th>\n",
       "      <th>x.1</th>\n",
       "      <th>x.2</th>\n",
       "      <th>x.3</th>\n",
       "      <th>x.4</th>\n",
       "      <th>x.5</th>\n",
       "      <th>x.6</th>\n",
       "      <th>x.7</th>\n",
       "      <th>x.8</th>\n",
       "      <th>x.9</th>\n",
       "      <th>x.10</th>\n",
       "    </tr>\n",
       "    <tr>\n",
       "      <th>row.names</th>\n",
       "      <th></th>\n",
       "      <th></th>\n",
       "      <th></th>\n",
       "      <th></th>\n",
       "      <th></th>\n",
       "      <th></th>\n",
       "      <th></th>\n",
       "      <th></th>\n",
       "      <th></th>\n",
       "      <th></th>\n",
       "      <th></th>\n",
       "    </tr>\n",
       "  </thead>\n",
       "  <tbody>\n",
       "    <tr>\n",
       "      <th>1</th>\n",
       "      <td>1</td>\n",
       "      <td>-1.149</td>\n",
       "      <td>-0.904</td>\n",
       "      <td>-1.988</td>\n",
       "      <td>0.739</td>\n",
       "      <td>-0.060</td>\n",
       "      <td>1.206</td>\n",
       "      <td>0.864</td>\n",
       "      <td>1.196</td>\n",
       "      <td>-0.300</td>\n",
       "      <td>-0.467</td>\n",
       "    </tr>\n",
       "    <tr>\n",
       "      <th>2</th>\n",
       "      <td>2</td>\n",
       "      <td>-2.613</td>\n",
       "      <td>-0.092</td>\n",
       "      <td>-0.540</td>\n",
       "      <td>0.484</td>\n",
       "      <td>0.389</td>\n",
       "      <td>1.741</td>\n",
       "      <td>0.198</td>\n",
       "      <td>0.257</td>\n",
       "      <td>-0.375</td>\n",
       "      <td>-0.604</td>\n",
       "    </tr>\n",
       "    <tr>\n",
       "      <th>3</th>\n",
       "      <td>3</td>\n",
       "      <td>-2.505</td>\n",
       "      <td>0.632</td>\n",
       "      <td>-0.593</td>\n",
       "      <td>0.304</td>\n",
       "      <td>0.496</td>\n",
       "      <td>0.824</td>\n",
       "      <td>-0.162</td>\n",
       "      <td>0.181</td>\n",
       "      <td>-0.363</td>\n",
       "      <td>-0.764</td>\n",
       "    </tr>\n",
       "    <tr>\n",
       "      <th>4</th>\n",
       "      <td>4</td>\n",
       "      <td>-1.768</td>\n",
       "      <td>1.769</td>\n",
       "      <td>-1.142</td>\n",
       "      <td>-0.739</td>\n",
       "      <td>-0.086</td>\n",
       "      <td>0.120</td>\n",
       "      <td>-0.230</td>\n",
       "      <td>0.217</td>\n",
       "      <td>-0.009</td>\n",
       "      <td>-0.279</td>\n",
       "    </tr>\n",
       "    <tr>\n",
       "      <th>5</th>\n",
       "      <td>5</td>\n",
       "      <td>-2.671</td>\n",
       "      <td>3.155</td>\n",
       "      <td>-0.514</td>\n",
       "      <td>0.133</td>\n",
       "      <td>-0.964</td>\n",
       "      <td>0.234</td>\n",
       "      <td>-0.071</td>\n",
       "      <td>1.192</td>\n",
       "      <td>0.254</td>\n",
       "      <td>-0.471</td>\n",
       "    </tr>\n",
       "  </tbody>\n",
       "</table>\n",
       "</div>"
      ],
      "text/plain": [
       "           y    x.1    x.2    x.3    x.4    x.5    x.6    x.7    x.8    x.9  \\\n",
       "row.names                                                                     \n",
       "1          1 -1.149 -0.904 -1.988  0.739 -0.060  1.206  0.864  1.196 -0.300   \n",
       "2          2 -2.613 -0.092 -0.540  0.484  0.389  1.741  0.198  0.257 -0.375   \n",
       "3          3 -2.505  0.632 -0.593  0.304  0.496  0.824 -0.162  0.181 -0.363   \n",
       "4          4 -1.768  1.769 -1.142 -0.739 -0.086  0.120 -0.230  0.217 -0.009   \n",
       "5          5 -2.671  3.155 -0.514  0.133 -0.964  0.234 -0.071  1.192  0.254   \n",
       "\n",
       "            x.10  \n",
       "row.names         \n",
       "1         -0.467  \n",
       "2         -0.604  \n",
       "3         -0.764  \n",
       "4         -0.279  \n",
       "5         -0.471  "
      ]
     },
     "execution_count": 51,
     "metadata": {},
     "output_type": "execute_result"
    }
   ],
   "source": [
    "test=pd.read_csv('vowel.test.csv', sep=',', index_col=0)"
   ]
  },
  {
   "cell_type": "code",
   "execution_count": 49,
   "metadata": {},
   "outputs": [
    {
     "data": {
      "text/plain": [
       "array([ 1,  2,  3,  4,  5,  6,  7,  8,  9, 10, 11], dtype=int64)"
      ]
     },
     "execution_count": 49,
     "metadata": {},
     "output_type": "execute_result"
    }
   ],
   "source": [
    "np.unique(train['y'])"
   ]
  },
  {
   "cell_type": "markdown",
   "metadata": {},
   "source": [
    "Comme expliqué plus haut, on s'intéresse à 11 voyelles. On doit donc traiter un problème de classification multi-classes à 11 classes.\n",
    "Vérifions si le nombre d'observations par classes (class balancing) est bien équilibré."
   ]
  },
  {
   "cell_type": "markdown",
   "metadata": {
    "collapsed": true
   },
   "source": [
    "#### Répartition des y"
   ]
  },
  {
   "cell_type": "code",
   "execution_count": 84,
   "metadata": {
    "scrolled": true
   },
   "outputs": [
    {
     "data": {
      "image/png": "[encoded data removed]",
      "text/plain": [
       "<matplotlib.figure.Figure at 0x11664e80>"
      ]
     },
     "metadata": {},
     "output_type": "display_data"
    }
   ],
   "source": [
    "plt.hist(train['y'], bins = 11)\n",
    "plt.show()"
   ]
  },
  {
   "cell_type": "markdown",
   "metadata": {},
   "source": [
    "Toutes les classes sont équitablement représentées."
   ]
  },
  {
   "cell_type": "markdown",
   "metadata": {},
   "source": [
    "On défini les matrices X_train et X_test des features. Ainsi que Y_train et Y_test des labels."
   ]
  },
  {
   "cell_type": "code",
   "execution_count": 101,
   "metadata": {
    "scrolled": true
   },
   "outputs": [
    {
     "name": "stdout",
     "output_type": "stream",
     "text": [
      "(462, 10)\n"
     ]
    }
   ],
   "source": [
    "Y_train = train.values[:,0]\n",
    "X_train = train.values[:,1:]\n",
    "\n",
    "Y_test = test.values[:,0]\n",
    "X_test = test.values[:,1:]"
   ]
  },
  {
   "cell_type": "markdown",
   "metadata": {},
   "source": [
    "# Méthodes de prédiction"
   ]
  },
  {
   "cell_type": "markdown",
   "metadata": {},
   "source": [
    "### Méthodes Naives Bayes, LDA et QDA"
   ]
  },
  {
   "cell_type": "code",
   "execution_count": 105,
   "metadata": {},
   "outputs": [],
   "source": [
    "names = [\"Naive Bayes\", \"LDA\", \"QDA\"]\n",
    "classifiers = [\n",
    "    GaussianNB(),\n",
    "    LinearDiscriminantAnalysis(),\n",
    "    QuadraticDiscriminantAnalysis()]"
   ]
  },
  {
   "cell_type": "code",
   "execution_count": 131,
   "metadata": {},
   "outputs": [
    {
     "name": "stdout",
     "output_type": "stream",
     "text": [
      "Sur le train, avec la méthode  Naive Bayes  le score de précision est de : 0.720\n",
      "Sur le test, avec la méthode  Naive Bayes  le score de précision est de : 0.461\n",
      "Sur le train, avec la méthode  LDA  le score de précision est de : 0.684\n",
      "Sur le test, avec la méthode  LDA  le score de précision est de : 0.444\n",
      "Sur le train, avec la méthode  QDA  le score de précision est de : 0.989\n",
      "Sur le test, avec la méthode  QDA  le score de précision est de : 0.472\n"
     ]
    }
   ],
   "source": [
    "for name, clf in zip(names, classifiers):\n",
    "    fit = clf.fit(X = X_train, y=Y_train)\n",
    "    print(\"Sur le train, avec la méthode \", name,\" le score de précision est de :\", (\"%.3f\" % accuracy_score(fit.predict(X_train),Y_train)))\n",
    "    print(\"Sur le test, avec la méthode \", name,\" le score de précision est de :\", (\"%.3f\" % accuracy_score(fit.predict(X_test),Y_test)))"
   ]
  },
  {
   "cell_type": "markdown",
   "metadata": {},
   "source": [
    "Analysons ces différents résultats."
   ]
  },
  {
   "cell_type": "markdown",
   "metadata": {},
   "source": [
    "Pour la méthode Naive Bayes, les résultats ne semblent pas bons. Que ce soit sur les données d'apprentissage ou d'entraînement, le score de précision de la prédiction ne dépasse pas 72%."
   ]
  },
  {
   "cell_type": "markdown",
   "metadata": {},
   "source": [
    "Pour l'analyse discriminante linéaire (LDA), les valeurs obtenues sont encore moins bonnes. Mauvais apprentissage des données, avec un score de 68.4%, et donc mauvaise prédiction des labels sur le jeu d'entraînement."
   ]
  },
  {
   "cell_type": "markdown",
   "metadata": {},
   "source": [
    "Pour l'analyse discrimante quadratique (QDA), on ne semble pas obtenir de meilleurs résultats. Attention au sur-apprentissage des données avec 98.9% de score de précision sur le train, et une mauvaise prédiction sur le test avec 47,2% de précision."
   ]
  },
  {
   "cell_type": "markdown",
   "metadata": {},
   "source": [
    "### Méthode k-NN"
   ]
  },
  {
   "cell_type": "code",
   "execution_count": 153,
   "metadata": {
    "collapsed": true
   },
   "outputs": [],
   "source": [
    "acs_kNN_train = [] #ACcuracy Score _ k-Nearest-Neighbors _ train\n",
    "acs_kNN_test = []\n",
    "for i in range(1,50):\n",
    "    kNN = neighbors.KNeighborsClassifier(n_neighbors=i)\n",
    "    kNN_fit=kNN.fit(X_train, Y_train)\n",
    "    acs_kNN_train.append( accuracy_score(kNN_fit.predict(X_train),Y_train))\n",
    "    acs_kNN_test.append( accuracy_score(kNN_fit.predict(X_test),Y_test))\n",
    "    \n",
    "    #print(\"Pour k=\",i,\", le score sur le train est\", (\"%.3f\" % accuracy_score(kNN_fit.predict(X_train),Y_train)))\n",
    "    #print(\"Pour k=\",i,\", le score sur le test est\", (\"%.3f\" % accuracy_score(kNN_fit.predict(X_test),Y_test)))"
   ]
  },
  {
   "cell_type": "markdown",
   "metadata": {},
   "source": [
    "Dans cette partie de code, on va stocker les différentes valeurs de score de précision obtenues sur le train et sur le test avec la méthode des k plus proches voisins, pour k variant de 1 à 50."
   ]
  },
  {
   "cell_type": "markdown",
   "metadata": {},
   "source": [
    "#### Représentation graphique et interprétaiton"
   ]
  },
  {
   "cell_type": "code",
   "execution_count": 174,
   "metadata": {},
   "outputs": [
    {
     "data": {
      "text/plain": [
       "Text(0,0.5,'Accuracy score')"
      ]
     },
     "execution_count": 174,
     "metadata": {},
     "output_type": "execute_result"
    },
    {
     "data": {
      "image/png": "[encoded data removed]",
      "text/plain": [
       "<matplotlib.figure.Figure at 0x145009e8>"
      ]
     },
     "metadata": {},
     "output_type": "display_data"
    }
   ],
   "source": [
    "plt.plot(np.arange(1,50),acs_kNN_train,label=\"Accuracy on train\")\n",
    "plt.plot(np.arange(1,50),acs_kNN_test, label=\"Accuracy on test\")\n",
    "plt.axvline(np.arange(1,50)[np.argmax(acs_kNN_test)], label=\"best k on test\", color=\"red\", alpha=0.5)\n",
    "plt.legend()\n",
    "plt.title(\"Vowel dataset\")\n",
    "plt.xlabel(\"k\")\n",
    "plt.ylabel(\"Accuracy score\")"
   ]
  },
  {
   "cell_type": "markdown",
   "metadata": {},
   "source": [
    "On observe sur ces différentes courbes que le score de précision de prédiction à tendance a diminuer au fur et à mesure que notre k augmente."
   ]
  },
  {
   "cell_type": "markdown",
   "metadata": {},
   "source": [
    "La droite rouge nous indique que le k optimal pour faire la meilleure prédiction sur ce jeux de données avec la méthode k-NN est k=6 (voir courbe ci dessous pour plus de précision). Pour k=6, le score de précision est d'environ 65%."
   ]
  },
  {
   "cell_type": "code",
   "execution_count": 157,
   "metadata": {},
   "outputs": [
    {
     "data": {
      "text/plain": [
       "5"
      ]
     },
     "execution_count": 157,
     "metadata": {},
     "output_type": "execute_result"
    },
    {
     "data": {
      "image/png": "[encoded data removed]",
      "text/plain": [
       "<matplotlib.figure.Figure at 0x1415e198>"
      ]
     },
     "metadata": {},
     "output_type": "display_data"
    }
   ],
   "source": [
    "plt.plot(np.arange(1,50),acs_kNN_test, 'o-')"
   ]
  }
 ],
 "metadata": {
  "kernelspec": {
   "display_name": "Python 3",
   "language": "python",
   "name": "python3"
  },
  "language_info": {
   "codemirror_mode": {
    "name": "ipython",
    "version": 3
   },
   "file_extension": ".py",
   "mimetype": "text/x-python",
   "name": "python",
   "nbconvert_exporter": "python",
   "pygments_lexer": "ipython3",
   "version": "3.6.7"
  }
 },
 "nbformat": 4,
 "nbformat_minor": 2
}
